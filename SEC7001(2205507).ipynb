{
  "nbformat": 4,
  "nbformat_minor": 0,
  "metadata": {
    "colab": {
      "provenance": [],
      "include_colab_link": true
    },
    "kernelspec": {
      "name": "python3",
      "display_name": "Python 3"
    },
    "language_info": {
      "name": "python"
    }
  },
  "cells": [
    {
      "cell_type": "markdown",
      "metadata": {
        "id": "view-in-github",
        "colab_type": "text"
      },
      "source": [
        "<a href=\"https://colab.research.google.com/github/isaumarusule/isaumarusule/blob/main/SEC7001(2205507).ipynb\" target=\"_parent\"><img src=\"https://colab.research.google.com/assets/colab-badge.svg\" alt=\"Open In Colab\"/></a>"
      ]
    },
    {
      "cell_type": "code",
      "execution_count": null,
      "metadata": {
        "id": "GyR3TcjGeh--"
      },
      "outputs": [],
      "source": [
        "# INSTALL LIBRARIES\n",
        "\n",
        "!pip install mlxtend\n",
        "!pip install pandas-profiling\n",
        "!pip install -U scikit-learn\n",
        "!pip install -U imbalanced-learn"
      ]
    },
    {
      "cell_type": "code",
      "source": [
        "import math\n",
        "import matplotlib.pyplot as plt\n",
        "import numpy as np\n",
        "import pandas as pd\n",
        "import seaborn as sns\n",
        "import warnings\n",
        "from imblearn.over_sampling import SMOTE\n",
        "from mlxtend.plotting import plot_confusion_matrix\n",
        "from pandas_profiling import ProfileReport\n",
        "from sklearn.datasets import make_classification\n",
        "from sklearn.ensemble import RandomForestClassifier\n",
        "from sklearn.feature_selection import SelectKBest\n",
        "from sklearn.feature_selection import chi2\n",
        "from sklearn.feature_selection import SelectKBest\n",
        "from sklearn.feature_selection import f_classif\n",
        "from sklearn.linear_model import LogisticRegression\n",
        "from sklearn.metrics import confusion_matrix, classification_report\n",
        "from sklearn.metrics import mean_absolute_error, mean_squared_error, accuracy_score, roc_curve, auc\n",
        "from sklearn.model_selection import train_test_split\n",
        "from sklearn.neighbors import KNeighborsClassifier\n",
        "from sklearn.svm import SVC\n",
        "from sklearn.tree import DecisionTreeClassifier\n",
        "from imblearn.under_sampling import NearMiss\n",
        "from sklearn.preprocessing import StandardScaler\n",
        "from xgboost import XGBClassifier\n",
        "from statsmodels.stats.outliers_influence import variance_inflation_factor\n",
        "from statsmodels.tools.tools import add_constant\n",
        "%matplotlib inline\n",
        "warnings.filterwarnings(\"ignore\")"
      ],
      "metadata": {
        "id": "Qd8PYuhEfZlf"
      },
      "execution_count": null,
      "outputs": []
    },
    {
      "cell_type": "code",
      "source": [
        "# Load Dataset\n",
        "df1 = pd.read_csv(\"/content/diabetes_binary_health_indicators_BRFSS2015.csv\")"
      ],
      "metadata": {
        "id": "GqGDej08feG3"
      },
      "execution_count": null,
      "outputs": []
    },
    {
      "cell_type": "code",
      "source": [
        "# Dataset Shape\n",
        "df1.shape"
      ],
      "metadata": {
        "id": "XVDPXMK6n44h"
      },
      "execution_count": null,
      "outputs": []
    },
    {
      "cell_type": "code",
      "source": [
        "# Dataset Columns\n",
        "df1.columns"
      ],
      "metadata": {
        "id": "8Z0jD8-6x49g"
      },
      "execution_count": null,
      "outputs": []
    },
    {
      "cell_type": "code",
      "source": [
        "# Dataset Information\n",
        "df1.info()"
      ],
      "metadata": {
        "id": "s6iesDpmuQhL"
      },
      "execution_count": null,
      "outputs": []
    },
    {
      "cell_type": "code",
      "source": [
        "# First (5) Rows of Dataset\n",
        "df1.head()"
      ],
      "metadata": {
        "id": "HZTyTL0iudjG"
      },
      "execution_count": null,
      "outputs": []
    },
    {
      "cell_type": "code",
      "source": [
        "# Dataset Description\n",
        "df1.describe().T"
      ],
      "metadata": {
        "id": "vW0qII6Qun19"
      },
      "execution_count": null,
      "outputs": []
    },
    {
      "cell_type": "code",
      "source": [
        "# Check Dataset (Missing Values)\n",
        "df1.isnull().sum()"
      ],
      "metadata": {
        "id": "778epNPCyqMT"
      },
      "execution_count": null,
      "outputs": []
    },
    {
      "cell_type": "code",
      "source": [
        "# Check Dataset (Unique Values)\n",
        "unique_values = {}\n",
        "for col in df1.columns:\n",
        "    unique_values[col] = df1[col].value_counts().shape[0]\n",
        "pd.DataFrame(unique_values, index=['unique value count']).transpose()"
      ],
      "metadata": {
        "id": "Egq_S8fozCvY"
      },
      "execution_count": null,
      "outputs": []
    },
    {
      "cell_type": "code",
      "source": [
        "# Check Dataset (Outliers)\n",
        "plt.figure(figsize = (20,15))\n",
        "for i,col in enumerate(['BMI', 'GenHlth', 'MentHlth', 'PhysHlth', 'Age','Education', 'Income']):\n",
        "    plt.subplot(4,2,i+1)\n",
        "    sns.boxplot(x = col, data = df1 ,palette='pastel')\n",
        "plt.show()"
      ],
      "metadata": {
        "id": "wVeja3kN0vRS"
      },
      "execution_count": null,
      "outputs": []
    },
    {
      "cell_type": "code",
      "source": [
        "# Check Dataset (Duplicate Rows)\n",
        "duplicates = df1[df1.duplicated()]\n",
        "print(\"Duplicate Rows : \",len(duplicates))\n",
        "duplicates.head()"
      ],
      "metadata": {
        "id": "8Uav-YKK3uJE"
      },
      "execution_count": null,
      "outputs": []
    },
    {
      "cell_type": "code",
      "source": [
        "# Drop Duplicate Rows (Dataset)\n",
        "df1.drop_duplicates(inplace = True)\n",
        "df1.shape"
      ],
      "metadata": {
        "id": "xiUth2Ms4eFs"
      },
      "execution_count": null,
      "outputs": []
    },
    {
      "cell_type": "code",
      "source": [
        "# Visualize Columns (Dataset)\n",
        "df1.hist(figsize=(20, 15), color='lightblue');"
      ],
      "metadata": {
        "id": "MIcjL2Yx6QMK"
      },
      "execution_count": null,
      "outputs": []
    },
    {
      "cell_type": "code",
      "source": [
        "# Check Correlation (Dataset)\n",
        "df1.corr()"
      ],
      "metadata": {
        "id": "p082k5l-61Z6"
      },
      "execution_count": null,
      "outputs": []
    },
    {
      "cell_type": "code",
      "source": [
        "# Correlation Heatmap (Diabetes)\n",
        "plt.figure(figsize=(20, 10))\n",
        "cmap = sns.diverging_palette(220, 20, as_cmap=True)\n",
        "sns.heatmap(df1.corr(), annot=True, cmap=cmap, center=0)\n",
        "plt.title(\"Correlation Heatmap (Diabetes)\")\n",
        "plt.show()"
      ],
      "metadata": {
        "id": "ocgX8Wuw7BxX"
      },
      "execution_count": null,
      "outputs": []
    },
    {
      "cell_type": "code",
      "source": [
        "# Correlation Bar Plot (Diabetes)\n",
        "plt.figure(figsize=(20, 8))\n",
        "correlation_with_diabetes = df1.drop('Diabetes_binary', axis=1).corrwith(df1['Diabetes_binary'])\n",
        "colors = ['lightblue' if corr >= 0 else 'lightcoral' for corr in correlation_with_diabetes]\n",
        "correlation_with_diabetes.plot(kind='bar', grid=True, figsize=(20, 8), title=\"Correlation Plot (Diabetes)\", color=colors)\n",
        "plt.show()"
      ],
      "metadata": {
        "id": "yhyAvWvu8Qhx"
      },
      "execution_count": null,
      "outputs": []
    },
    {
      "cell_type": "code",
      "source": [
        "# Diabetes Count Distribution in Dataset\n",
        "df1[\"Diabetes_binary\"].value_counts()\n"
      ],
      "metadata": {
        "id": "_Q5SxR7syf_h"
      },
      "execution_count": null,
      "outputs": []
    },
    {
      "cell_type": "code",
      "source": [
        "# Create Duplicate (Dataset)\n",
        "df2 = df1.copy()"
      ],
      "metadata": {
        "id": "Y1r7Trj2JeJa"
      },
      "execution_count": null,
      "outputs": []
    },
    {
      "cell_type": "code",
      "source": [
        "# Create Categorial Column (Diabetic/Non-Diabetic)\n",
        "df2[\"Diabetes_Status\"] = df2[\"Diabetes_binary\"].replace({0: \"Non-Diabetic\", 1: \"Diabetic\"})\n",
        "df2.head()"
      ],
      "metadata": {
        "id": "WzkbpDC99T0d"
      },
      "execution_count": null,
      "outputs": []
    },
    {
      "cell_type": "code",
      "source": [
        "# Features Category (Dataset)\n",
        "\n",
        "df2.Age[df2['Age'] == 1] = '18 to 24'\n",
        "df2.Age[df2['Age'] == 2] = '25 to 29'\n",
        "df2.Age[df2['Age'] == 3] = '30 to 34'\n",
        "df2.Age[df2['Age'] == 4] = '35 to 39'\n",
        "df2.Age[df2['Age'] == 5] = '40 to 44'\n",
        "df2.Age[df2['Age'] == 6] = '45 to 49'\n",
        "df2.Age[df2['Age'] == 7] = '50 to 54'\n",
        "df2.Age[df2['Age'] == 8] = '55 to 59'\n",
        "df2.Age[df2['Age'] == 9] = '60 to 64'\n",
        "df2.Age[df2['Age'] == 10] = '65 to 69'\n",
        "df2.Age[df2['Age'] == 11] = '70 to 74'\n",
        "df2.Age[df2['Age'] == 12] = '75 to 79'\n",
        "df2.Age[df2['Age'] == 13] = '80 or older'\n",
        "\n",
        "df2.Diabetes_binary[df2['Diabetes_binary'] == 0] = 'No Diabetes'\n",
        "df2.Diabetes_binary[df2['Diabetes_binary'] == 1] = 'Diabetes'\n",
        "\n",
        "df2.HighBP[df2['HighBP'] == 0] = 'No High'\n",
        "df2.HighBP[df2['HighBP'] == 1] = 'High BP'\n",
        "\n",
        "df2.HighChol[df2['HighChol'] == 0] = 'No High Cholesterol'\n",
        "df2.HighChol[df2['HighChol'] == 1] = 'High Cholesterol'\n",
        "\n",
        "df2.CholCheck[df2['CholCheck'] == 0] = 'No Cholesterol Check in 5 Years'\n",
        "df2.CholCheck[df2['CholCheck'] == 1] = 'Cholesterol Check in 5 Years'\n",
        "\n",
        "df2.Smoker[df2['Smoker'] == 0] = 'No'\n",
        "df2.Smoker[df2['Smoker'] == 1] = 'Yes'\n",
        "\n",
        "df2.Stroke[df2['Stroke'] == 0] = 'No'\n",
        "df2.Stroke[df2['Stroke'] == 1] = 'Yes'\n",
        "\n",
        "df2.HeartDiseaseorAttack[df2['HeartDiseaseorAttack'] == 0] = 'No'\n",
        "df2.HeartDiseaseorAttack[df2['HeartDiseaseorAttack'] == 1] = 'Yes'\n",
        "\n",
        "df2.PhysActivity[df2['PhysActivity'] == 0] = 'No'\n",
        "df2.PhysActivity[df2['PhysActivity'] == 1] = 'Yes'\n",
        "\n",
        "df2.Fruits[df2['Fruits'] == 0] = 'No'\n",
        "df2.Fruits[df2['Fruits'] == 1] = 'Yes'\n",
        "\n",
        "df2.Veggies[df2['Veggies'] == 0] = 'No'\n",
        "df2.Veggies[df2['Veggies'] == 1] = 'Yes'\n",
        "\n",
        "df2.HvyAlcoholConsump[df2['HvyAlcoholConsump'] == 0] = 'No'\n",
        "df2.HvyAlcoholConsump[df2['HvyAlcoholConsump'] == 1] = 'Yes'\n",
        "\n",
        "df2.AnyHealthcare[df2['AnyHealthcare'] == 0] = 'No'\n",
        "df2.AnyHealthcare[df2['AnyHealthcare'] == 1] = 'Yes'\n",
        "\n",
        "df2.NoDocbcCost[df2['NoDocbcCost'] == 0] = 'No'\n",
        "df2.NoDocbcCost[df2['NoDocbcCost'] == 1] = 'Yes'\n",
        "\n",
        "df2.GenHlth[df2['GenHlth'] == 5] = 'Excellent'\n",
        "df2.GenHlth[df2['GenHlth'] == 4] = 'Very Good'\n",
        "df2.GenHlth[df2['GenHlth'] == 3] = 'Good'\n",
        "df2.GenHlth[df2['GenHlth'] == 2] = 'Fair'\n",
        "df2.GenHlth[df2['GenHlth'] == 1] = 'Poor'\n",
        "\n",
        "df2.DiffWalk[df2['DiffWalk'] == 0] = 'No'\n",
        "df2.DiffWalk[df2['DiffWalk'] == 1] = 'Yes'\n",
        "\n",
        "df2.Sex[df2['Sex'] == 0] = 'Female'\n",
        "df2.Sex[df2['Sex'] == 1] = 'Male'\n",
        "\n",
        "df2.Education[df2['Education'] == 1] = 'Never Attended School'\n",
        "df2.Education[df2['Education'] == 2] = 'Elementary'\n",
        "df2.Education[df2['Education'] == 3] = 'Junior High School'\n",
        "df2.Education[df2['Education'] == 4] = 'Senior High School'\n",
        "df2.Education[df2['Education'] == 5] = 'Undergraduate Degree'\n",
        "df2.Education[df2['Education'] == 6] = 'Graduate Degree'\n",
        "\n",
        "df2.Income[df2['Income'] == 1] = 'Less Than $10,000'\n",
        "df2.Income[df2['Income'] == 2] = 'Less than $15,000'\n",
        "df2.Income[df2['Income'] == 3] = 'Less than $20,000'\n",
        "df2.Income[df2['Income'] == 4] = 'Less than $25,000'\n",
        "df2.Income[df2['Income'] == 5] = 'Less Than $35,000'\n",
        "df2.Income[df2['Income'] == 6] = 'Less than $50,000'\n",
        "df2.Income[df2['Income'] == 7] = 'Less Than $75,000'\n",
        "df2.Income[df2['Income'] == 8] = '$75,000 or More'"
      ],
      "metadata": {
        "id": "LsIEczA0EgwE"
      },
      "execution_count": null,
      "outputs": []
    },
    {
      "cell_type": "code",
      "source": [
        "# Pie Chart Distribution (Features)\n",
        "def create_pie_chart(dataframe, x_column):\n",
        "    counts = dataframe[x_column].value_counts()\n",
        "    return counts\n",
        "columns = ['Diabetes_binary','HighBP', 'HighChol', 'CholCheck', 'Smoker', 'Stroke', 'HeartDiseaseorAttack',\n",
        "           'PhysActivity', 'Fruits', 'Veggies', 'HvyAlcoholConsump', 'AnyHealthcare', 'NoDocbcCost',\n",
        "           'DiffWalk', 'Sex']\n",
        "fig, ax = plt.subplots(5, 3, figsize=(15, 15))  # Adjust the grid dimensions as needed\n",
        "axes = ax.ravel()\n",
        "c = min(len(columns), len(axes))  # Use the minimum of available columns and axes\n",
        "for i in range(c):\n",
        "    counts = create_pie_chart(df2, columns[i])\n",
        "    axes[i].pie(counts, labels=counts.index, autopct='%1.1f%%', colors=['lightblue', 'lightcoral'])\n",
        "    axes[i].set_title(columns[i])\n",
        "plt.tight_layout()\n",
        "plt.show()"
      ],
      "metadata": {
        "id": "BmMwrH38pzmZ"
      },
      "execution_count": null,
      "outputs": []
    },
    {
      "cell_type": "code",
      "source": [
        "# Pivot Chart Distribution (Features)\n",
        "def create_plot_pivot(dataframe, x_column):\n",
        "    return dataframe.pivot_table(index=x_column, columns='Diabetes_binary', aggfunc='size')\n",
        "columns = ['Diabetes_binary','HighBP', 'HighChol', 'CholCheck', 'Smoker', 'Stroke', 'HeartDiseaseorAttack',\n",
        "           'PhysActivity', 'Fruits', 'Veggies', 'HvyAlcoholConsump', 'AnyHealthcare', 'NoDocbcCost',\n",
        "           'DiffWalk', 'Sex', 'Age', 'GenHlth', 'Education']\n",
        "fig, ax = plt.subplots(3, 6, figsize=(20, 20))  # Adjust the grid dimensions as needed\n",
        "axes = ax.ravel()\n",
        "c = min(len(columns), len(axes))  # Use the minimum of available columns and axes\n",
        "for i in range(c):\n",
        "    create_plot_pivot(df2, columns[i]).plot(kind='bar', stacked=True, ax=axes[i], color=['lightcoral', 'lightblue'])\n",
        "    axes[i].set_xlabel(columns[i])\n",
        "plt.tight_layout()\n",
        "plt.show()"
      ],
      "metadata": {
        "id": "xubICPkfiEid"
      },
      "execution_count": null,
      "outputs": []
    },
    {
      "cell_type": "code",
      "source": [
        "# Plot Chart Distribution (Features)\n",
        "def create_plot_pivot(dataframe, x_column):\n",
        "    return dataframe.pivot_table(index=x_column, columns='Diabetes_binary', aggfunc='size')\n",
        "columns = ['Income', 'MentHlth', 'PhysHlth', 'BMI']\n",
        "fig, ax = plt.subplots(2, 2, figsize=(20, 20))  # Adjust the grid dimensions as needed\n",
        "axes = ax.ravel()\n",
        "c = min(len(columns), len(axes))  # Use the minimum of available columns and axes\n",
        "for i in range(c):\n",
        "    create_plot_pivot(df2, columns[i]).plot(kind='bar', stacked=True, ax=axes[i], color=['lightcoral', 'lightblue'])\n",
        "    axes[i].set_xlabel(columns[i])\n",
        "plt.tight_layout()\n",
        "plt.show()"
      ],
      "metadata": {
        "id": "Wa0kW-TuA39v"
      },
      "execution_count": null,
      "outputs": []
    },
    {
      "cell_type": "code",
      "source": [
        "# Diabetes Count Distribution in Dataset\n",
        "df2[\"Diabetes_Status\"].value_counts()"
      ],
      "metadata": {
        "id": "Qc692G4wobyw"
      },
      "execution_count": null,
      "outputs": []
    },
    {
      "cell_type": "code",
      "source": [
        "# Diabetes Bar Chart Distribution in Dataset\n",
        "plt.figure(figsize=(8, 6))\n",
        "sns.countplot(data=df2, x=\"Diabetes_Status\", palette={\"Non-Diabetic\": \"lightblue\", \"Diabetic\": \"Lightcoral\"})\n",
        "plt.title(\"Distribution of Diabetes Status\")\n",
        "plt.xlabel(\"Diabetes Status\")\n",
        "plt.ylabel(\"Count\")\n",
        "plt.show()"
      ],
      "metadata": {
        "id": "AG3WYEBmLasZ"
      },
      "execution_count": null,
      "outputs": []
    },
    {
      "cell_type": "code",
      "source": [
        "# Diabetes Pie Chart Percentage Distribution in Dataset\n",
        "labels = [\"Non-Diabetic\", \"Diabetic\"]\n",
        "sizes = df2[\"Diabetes_Status\"].value_counts()\n",
        "colors = ['Lightblue', 'Lightcoral']\n",
        "explode = (0, 0.1)  # Explode the \"Diabetic\" slice\n",
        "plt.figure(figsize=(6, 6))\n",
        "plt.pie(sizes, labels=labels, colors=colors, autopct='%1.1f%%', shadow=True, startangle=140, explode=explode)\n",
        "plt.title(\"Distribution of Diabetic and Non-Diabetics\")\n",
        "plt.axis('equal')  # Equal aspect ratio ensures that pie is drawn as a circle.\n",
        "plt.show()"
      ],
      "metadata": {
        "id": "ZRjPWwCUKc7a"
      },
      "execution_count": null,
      "outputs": []
    },
    {
      "cell_type": "code",
      "source": [
        "# ANOVA TEST\n",
        "\n",
        "X = df1.iloc[:,1:]\n",
        "Y = df1.iloc[:,0]"
      ],
      "metadata": {
        "id": "FKB2bFnItuhC"
      },
      "execution_count": null,
      "outputs": []
    },
    {
      "cell_type": "code",
      "source": [
        "# ANOVA FEATURE SELECTION\n",
        "\n",
        "# Define Feature selection\n",
        "fs = SelectKBest(score_func=f_classif, k=10)\n",
        "# Apply Features\n",
        "X_selected = fs.fit_transform(X, Y)\n",
        "print(X_selected.shape)"
      ],
      "metadata": {
        "id": "byaGxSskepn5"
      },
      "execution_count": null,
      "outputs": []
    },
    {
      "cell_type": "code",
      "source": [
        "# Create dataframe\n",
        "pd.DataFrame(X_selected).head(3)"
      ],
      "metadata": {
        "id": "Cv7Sr0Vfeszc"
      },
      "execution_count": null,
      "outputs": []
    },
    {
      "cell_type": "code",
      "source": [
        "# Chi Square\n",
        "# Apply SelectKBest class to extract top 10 best features\n",
        "BestFeatures = SelectKBest(score_func=chi2, k=10)\n",
        "fit = BestFeatures.fit(X, Y)\n",
        "\n",
        "# Create a DataFrame for the scores and columns\n",
        "df_scores = pd.DataFrame(fit.scores_, columns=['Score'])\n",
        "df_columns = pd.DataFrame(X.columns, columns=['Feature'])\n",
        "\n",
        "# Concatenate the two dataframes for better visualization\n",
        "f_Scores = pd.concat([df_columns, df_scores], axis=1)\n",
        "f_Scores.columns = ['Feature', 'Score']\n",
        "\n",
        "# Sort the dataframe by score in descending order\n",
        "f_Scores = f_Scores.sort_values(by='Score', ascending=False)\n",
        "\n",
        "# Display the dataframe with arranged scores\n",
        "f_Scores"
      ],
      "metadata": {
        "id": "-yh4-Cj2MFYy"
      },
      "execution_count": null,
      "outputs": []
    },
    {
      "cell_type": "code",
      "source": [
        "# Feature Importance (Selection)\n",
        "\n",
        "# Sort the features by score in descending order\n",
        "sorted_scores = f_Scores.sort_values(by='Score', ascending=False)\n",
        "# Define the color for the bars (light blue)\n",
        "bar_color = 'lightcoral'\n",
        "# Plot the bar chart with the specified color\n",
        "plt.figure(figsize=(10, 5))\n",
        "plt.bar(sorted_scores['Feature'], sorted_scores['Score'], color=bar_color)\n",
        "plt.xlabel('Feature')\n",
        "plt.ylabel('Score')\n",
        "plt.title('Features Score (Chi-Squared)')\n",
        "plt.xticks(rotation=45, ha='right')\n",
        "plt.tight_layout()\n",
        "# Display the plot\n",
        "plt.show()"
      ],
      "metadata": {
        "id": "7sBo_rBOm3Ou"
      },
      "execution_count": null,
      "outputs": []
    },
    {
      "cell_type": "code",
      "source": [
        "# Feature Selection (Importance)\n",
        "\n",
        "print(f_Scores.nlargest(16,'Score'))"
      ],
      "metadata": {
        "id": "7RyecQrpDtu-"
      },
      "execution_count": null,
      "outputs": []
    },
    {
      "cell_type": "code",
      "source": [
        "# Drop Columns (Least Featured)\n",
        "columns = [\"NoDocbcCost\", \"Veggies\", \"Fruits\", \"CholCheck\", \"AnyHealthcare\"]\n",
        "df1.drop(columns, axis=1, inplace=True)"
      ],
      "metadata": {
        "id": "6MPxYFa7vA16"
      },
      "execution_count": null,
      "outputs": []
    },
    {
      "cell_type": "code",
      "source": [
        "# Drop Column (Diabetes_binary)\n",
        "X=df1.drop(\"Diabetes_binary\",axis=1)\n",
        "Y=df1[\"Diabetes_binary\"]"
      ],
      "metadata": {
        "id": "kw8bdf3DIkNA"
      },
      "execution_count": null,
      "outputs": []
    },
    {
      "cell_type": "code",
      "source": [
        "# Check Dataset Imbalance\n",
        "Y.value_counts()"
      ],
      "metadata": {
        "id": "KmJX-CfTxGh-"
      },
      "execution_count": null,
      "outputs": []
    },
    {
      "cell_type": "code",
      "source": [
        "# Sample Dataset\n",
        "nm = NearMiss(version = 1 , n_neighbors = 10)\n",
        "x_sm, y_sm= nm.fit_resample(X,Y)\n",
        "x_sm.shape, y_sm.shape"
      ],
      "metadata": {
        "id": "E_igvO5KrJX2"
      },
      "execution_count": null,
      "outputs": []
    },
    {
      "cell_type": "code",
      "source": [
        "# Train and Test Dataset\n",
        "X_train , X_test , Y_train , Y_test = train_test_split(x_sm,y_sm, test_size=0.2 , random_state=42)"
      ],
      "metadata": {
        "id": "Us803wsVqyWs"
      },
      "execution_count": null,
      "outputs": []
    },
    {
      "cell_type": "code",
      "source": [
        "# Scale and Transform Dataset\n",
        "scalar = StandardScaler()\n",
        "X_train = scalar.fit_transform(X_train)\n",
        "X_test = scalar.fit_transform(X_test)\n",
        "x_sm.shape, y_sm.shape"
      ],
      "metadata": {
        "id": "anCETpvgrxLJ"
      },
      "execution_count": null,
      "outputs": []
    },
    {
      "cell_type": "code",
      "source": [
        "# MODELLING\n",
        "\n",
        "# Logistic Regression\n",
        "\n",
        "lg = LogisticRegression(max_iter = 1500)\n",
        "lg.fit(X_train , Y_train)"
      ],
      "metadata": {
        "id": "XEn6EMlasHHP"
      },
      "execution_count": null,
      "outputs": []
    },
    {
      "cell_type": "code",
      "source": [
        "# Model Prediction\n",
        "y_pred=lg.predict(X_test)\n",
        "print('Training set score: {:.4f}'.format(lg.score(X_train, Y_train)))\n",
        "print('Test set score: {:.4f}'.format(lg.score(X_test, Y_test)))"
      ],
      "metadata": {
        "id": "_VTFXVgHsiy-"
      },
      "execution_count": null,
      "outputs": []
    },
    {
      "cell_type": "code",
      "source": [
        "# Classification Report\n",
        "report = classification_report(Y_test,y_pred )\n",
        "print(report)"
      ],
      "metadata": {
        "id": "_tGVhSKBzo1B"
      },
      "execution_count": null,
      "outputs": []
    },
    {
      "cell_type": "code",
      "source": [
        "# Evaluate Result (MAE)\n",
        "mae = mean_absolute_error(Y_test, y_pred)\n",
        "print('Mean Absolute Error : ' + str(mae))"
      ],
      "metadata": {
        "id": "abjKWpfiy3tG"
      },
      "execution_count": null,
      "outputs": []
    },
    {
      "cell_type": "code",
      "source": [
        "# Desicion Tree model\n",
        "\n",
        "dt = DecisionTreeClassifier( max_depth= 12)\n",
        "dt.fit(X_train , Y_train)"
      ],
      "metadata": {
        "id": "I71L_f5R2pnp"
      },
      "execution_count": null,
      "outputs": []
    },
    {
      "cell_type": "code",
      "source": [
        "# Model Prediction\n",
        "y_pred=dt.predict(X_test)\n",
        "print('Training set score: {:.4f}'.format(dt.score(X_train, Y_train)))\n",
        "print('Test set score: {:.4f}'.format(dt.score(X_test, Y_test)))"
      ],
      "metadata": {
        "id": "H-UH7PkY3_od"
      },
      "execution_count": null,
      "outputs": []
    },
    {
      "cell_type": "code",
      "source": [
        "# Classification Report\n",
        "report = classification_report(Y_test,y_pred )\n",
        "print(report)"
      ],
      "metadata": {
        "id": "1Nu8vGU34V9i"
      },
      "execution_count": null,
      "outputs": []
    },
    {
      "cell_type": "code",
      "source": [
        "# Evaluate Result (MAE)\n",
        "mae = mean_absolute_error(Y_test, y_pred)\n",
        "print('Mean Absolute Error : ' + str(mae))"
      ],
      "metadata": {
        "id": "GdmD05na4OXL"
      },
      "execution_count": null,
      "outputs": []
    },
    {
      "cell_type": "code",
      "source": [
        "# SVM\n",
        "\n",
        "clf = SVC(kernel='rbf', C=1.0)\n",
        "# train the model\n",
        "clf.fit(X_train, Y_train)"
      ],
      "metadata": {
        "id": "DD5euydz5uM0"
      },
      "execution_count": null,
      "outputs": []
    },
    {
      "cell_type": "code",
      "source": [
        "# Model Prediction\n",
        "y_pred=clf.predict(X_test)\n",
        "print('Training set score: {:.4f}'.format(clf.score(X_train, Y_train)))\n",
        "print('Test set score: {:.4f}'.format(clf.score(X_test, Y_test)))"
      ],
      "metadata": {
        "id": "gwQNizs-VfmB"
      },
      "execution_count": null,
      "outputs": []
    },
    {
      "cell_type": "code",
      "source": [
        "# Classification Report\n",
        "report = classification_report(Y_test,y_pred )\n",
        "print(report)"
      ],
      "metadata": {
        "id": "yiMsV69W8_o2"
      },
      "execution_count": null,
      "outputs": []
    },
    {
      "cell_type": "code",
      "source": [
        "# Evaluate Result (MAE)\n",
        "mae = mean_absolute_error(Y_test, y_pred)\n",
        "print('Mean Absolute Error : ' + str(mae))"
      ],
      "metadata": {
        "id": "hnNaPbu78zE7"
      },
      "execution_count": null,
      "outputs": []
    },
    {
      "cell_type": "code",
      "source": [
        "# XGBoost\n",
        "\n",
        "xg = XGBClassifier(eval_metric= 'error', learning_rate= 0.1)\n",
        "xg.fit(X_train , Y_train)"
      ],
      "metadata": {
        "id": "2zzvc4rv9cj5"
      },
      "execution_count": null,
      "outputs": []
    },
    {
      "cell_type": "code",
      "source": [
        "# Model Prediction\n",
        "y_pred=xg.predict(X_test)\n",
        "print('Training set score: {:.4f}'.format(xg.score(X_train, Y_train)))\n",
        "print('Test set score: {:.4f}'.format(xg.score(X_test, Y_test)))"
      ],
      "metadata": {
        "id": "odKzuDrp9tct"
      },
      "execution_count": null,
      "outputs": []
    },
    {
      "cell_type": "code",
      "source": [
        "# Classification Report\n",
        "report = classification_report(Y_test,y_pred )\n",
        "print(report)"
      ],
      "metadata": {
        "id": "ialHZxQy-ZIx"
      },
      "execution_count": null,
      "outputs": []
    },
    {
      "cell_type": "code",
      "source": [
        "# Evaluate Result (MAE)\n",
        "mae = mean_absolute_error(Y_test, y_pred)\n",
        "print('Mean Absolute Error : ' + str(mae))"
      ],
      "metadata": {
        "id": "53dPETuL-Onp"
      },
      "execution_count": null,
      "outputs": []
    }
  ]
}